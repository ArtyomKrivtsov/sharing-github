{
 "cells": [
  {
   "cell_type": "markdown",
   "id": "25ba39c6",
   "metadata": {},
   "source": [
    "# Task 1.4"
   ]
  },
  {
   "cell_type": "markdown",
   "id": "bdb66f76",
   "metadata": {},
   "source": [
    "<div style=\"text-align: justify\">In the United States, fuel efficiency for vehicles is normally expressed in miles-per-gallon (MPG). In Canada, fuel efficiency is normally expressed in liters-per-hundred kilometers (L/100km). Use your research skills to determine how to convert from MPG to L/100km.Then create a program that reads a value from the user in American units and displays the equivalent fuel efficiency in Canadian units.</div>"
   ]
  },
  {
   "cell_type": "code",
   "execution_count": 5,
   "id": "12652671",
   "metadata": {},
   "outputs": [
    {
     "name": "stdout",
     "output_type": "stream",
     "text": [
      "Enter the deposit: 1000\n",
      "1040.00\n",
      "1081.60\n",
      "1124.86\n"
     ]
    }
   ],
   "source": [
    "dep = float(input('Enter the deposit: '))\n",
    "rate = 0.04\n",
    "new_dep = dep + dep*rate #1st year\n",
    "print(f'{new_dep:.2f}')\n",
    "new_dep = new_dep + new_dep*rate #2nd year\n",
    "print(f'{new_dep:.2f}')\n",
    "new_dep = new_dep + new_dep*rate #3rd year\n",
    "print(f'{new_dep:.2f}')"
   ]
  },
  {
   "cell_type": "markdown",
   "id": "3c1b3d9c",
   "metadata": {},
   "source": [
    "# Task 1.6"
   ]
  },
  {
   "cell_type": "markdown",
   "id": "6559d2ce",
   "metadata": {},
   "source": [
    "<div style=\"text-align: justify\">The surface of the Earth is curved, and the distance between degrees of longitude varies with latitude. As a result, finding the distance between two points on the surface of the Earth is more complicated than simply using the Pythagorean theorem.</div>\n",
    "\n",
    "<div style=\"text-align: justify\">Let ($t_1$, $g_1$) and ($t_2$ , $g_2$) be the latitude and longitude of two points on the Earth’s surface. The distance between these points, following the surface of the Earth, in kilometers is:</div>\n",
    "\n",
    "$$\n",
    "D = 6371.01 \\arccos(\\sin t_1 \\sin t_2 + \\cos t_1 \\cos t_2 \\cos(g_1-g_2))\n",
    "$$\n",
    "The value 6371.01 in the previous equation wasn’t selected at random. It is the average radius of the Earth in kilometers."
   ]
  },
  {
   "cell_type": "code",
   "execution_count": 11,
   "id": "db6be2e7",
   "metadata": {},
   "outputs": [
    {
     "name": "stdout",
     "output_type": "stream",
     "text": [
      "Latitude 1: 11\n",
      "Longitude 1: 11\n",
      "Latitude 2: 12\n",
      "Longitude 2: 13\n",
      "244.65\n"
     ]
    }
   ],
   "source": [
    "import math\n",
    "\n",
    "t1 = float(input('Latitude 1: '))\n",
    "g1 = float(input('Longitude 1: '))\n",
    "t2 = float(input('Latitude 2: '))\n",
    "g2 = float(input('Longitude 2: '))\n",
    "t1 = math.radians(t1)\n",
    "g1 = math.radians(g1)\n",
    "t2 = math.radians(t2)\n",
    "g2 = math.radians(g2)\n",
    "dist = 6371.01 * acos(sin(t1) * sin(t2) + cos(t1) * cos(t2) * cos(g1 - g2))\n",
    "print(f'{dist:.2f}')"
   ]
  },
  {
   "cell_type": "markdown",
   "id": "7cbf82a0",
   "metadata": {},
   "source": [
    "# Task 1.11"
   ]
  },
  {
   "cell_type": "markdown",
   "id": "0257eb73",
   "metadata": {},
   "source": [
    "<div style=\"text-align: justify\">Develop a program that reads a four-digit integer from the user and displays the sum of its digits. For example, if the user enters 3141 then your program should display 3 + 1 + 4 + 1 = 9.</div>"
   ]
  },
  {
   "cell_type": "code",
   "execution_count": 6,
   "id": "d56deff6",
   "metadata": {},
   "outputs": [
    {
     "name": "stdout",
     "output_type": "stream",
     "text": [
      "Enter a four-digit number: 1283\n",
      "14\n"
     ]
    }
   ],
   "source": [
    "n = input(\"Enter a four-digit number: \")\n",
    "s = int(n[0]) + int(n[1]) + int(n[2]) + int(n[3])\n",
    "print(s)"
   ]
  },
  {
   "cell_type": "markdown",
   "id": "6e433f82",
   "metadata": {},
   "source": [
    "# Task 2.6"
   ]
  },
  {
   "cell_type": "markdown",
   "id": "f4e01042",
   "metadata": {},
   "source": [
    "The year is divided into four seasons: spring, summer, fall (or autumn) and winter. While the exact dates that the seasons change vary a little bit from year to year because of the way that the calendar is constructed, we will use the following dates for this exercise:\n",
    "\n",
    "Season | First Day\n",
    "-----|-----\n",
    "Spring | March 20\n",
    "Summer | June 21\n",
    "Fall | September 22\n",
    "Winter | December 21\n",
    "\n",
    "Create a program that reads a month and day from the user. The user will enter the name of the month as a string, followed by the day within the month as an integer. Then your program should display the season associated with the date that was entered."
   ]
  },
  {
   "cell_type": "code",
   "execution_count": 4,
   "id": "66cf10a0",
   "metadata": {},
   "outputs": [
    {
     "name": "stdout",
     "output_type": "stream",
     "text": [
      "Enter the month: June\n",
      "Enter the day: 23\n",
      "It is summer\n"
     ]
    }
   ],
   "source": [
    "month = input('Enter the month: ')\n",
    "day = int(input('Enter the day: '))\n",
    "if day > 0:\n",
    "    if (month == 'March' and 31 > day >= 20) or (month == 'April' and day <= 30) or (month == 'May' and day <= 31) or (month == 'June' and day < 21):\n",
    "        print('It is spring')\n",
    "    elif (month == 'June' and 30 > day >= 21) or (month == 'July' and day <= 31) or (month == 'August' and day <= 31) or (month == 'September' and day < 22):\n",
    "        print('It is summer')\n",
    "    elif (month == 'September' and 30 > day >= 22) or (month == 'October' and day <= 31) or (month == 'November' and day <= 30) or (month == 'December' and day < 21):\n",
    "        print('It is fall')\n",
    "    elif (month == 'December' and 31 > day >= 21) or (month == 'January' and day <= 31) or (month == 'February' and day <= 29) or (month == 'March' and day < 20):\n",
    "        print('It is winter')\n",
    "    else:\n",
    "        print('There is no such date')\n",
    "else:\n",
    "    print('There is no such date')"
   ]
  },
  {
   "cell_type": "markdown",
   "id": "bea9623a",
   "metadata": {},
   "source": [
    "# Task 2.7"
   ]
  },
  {
   "cell_type": "markdown",
   "id": "dc581ff1",
   "metadata": {},
   "source": [
    "<div style=\"text-align: justify\">A roulette wheel has 38 spaces on it. Of these spaces, 18 are black, 18 are red, and two are green. The green spaces are numbered 0 and 00. The red spaces are numbered 1, 3, 5, 7, 9, 12, 14, 16, 18, 19, 21, 23, 25, 27, 30 32, 34 and 36. The remaining integers between 1 and 36 are used to number the black spaces.</div>\n",
    "\n",
    "Many different bets can be placed in roulette. We will only consider the following subset of them in this exercise:\n",
    "\n",
    "Single number (1 to 36, 0, or 00)\n",
    "Red versus Black\n",
    "Odd versus Even (Note that 0 and 00 do not pay out for even)\n",
    "1 to 18 versus 19 to 36\n",
    "Write a program that simulates a spin of a roulette wheel by using Python’s random number generator. Display the number that was selected and all of the bets that must be payed. For example, if 13 is selected then your program should display:\n",
    "\n",
    "The  spin resulted in 13...\n",
    "Pay 13\n",
    "Pay Black\n",
    "Pay Odd\n",
    "Pay 1 to 18\n",
    "If the simulation results in 0 or 00 then your program should display Pay 0 or Pay 00 without any further output."
   ]
  },
  {
   "cell_type": "code",
   "execution_count": null,
   "id": "38b9d4bf",
   "metadata": {},
   "outputs": [],
   "source": [
    "from random import randrange\n",
    "n = randrange(38) #37 = '00'\n",
    "if n == 37:\n",
    "    print('The spin resulted in 00')\n",
    "else:\n",
    "    print(f'The spin resulted in {n}')\n",
    "if n == 37:\n",
    "    print(f'Pay 00')\n",
    "else:\n",
    "    print(f'Pay {n}')\n",
    "\n",
    "if n in range(1, 10, 2) or n in range(12, 19, 2) or n in range(19, 28, 2) or n in range(30, 37, 2):\n",
    "    print('Pay Red')\n",
    "elif n == 37 or n == 0:\n",
    "    print('Pay Green')\n",
    "else:\n",
    "    print('Pay Black')\n",
    "\n",
    "if n % 2 == 0 and n != 0:\n",
    "    print('Pay Even')\n",
    "else:\n",
    "    print('Pay Odd')\n",
    "    \n",
    "if n in range(1, 19):\n",
    "    print('Pay 1 to 18')\n",
    "elif n in range(19, 37):\n",
    "    print('Pay 19 to 36')\n",
    "else:\n",
    "    if n == 37: \n",
    "        print('Pay 00')\n",
    "    else:\n",
    "        print('Pay 0')"
   ]
  },
  {
   "cell_type": "markdown",
   "id": "d5fcedc9",
   "metadata": {},
   "source": [
    "# Task 3.2"
   ]
  },
  {
   "cell_type": "markdown",
   "id": "ce59afa6",
   "metadata": {},
   "source": [
    "<div style=\"text-align: justify\">Words like first, second and third are referred to as ordinal numbers. In this exercise, you will write a function that takes an integer as its only parameter and returns a string containing the appropriate English ordinal number as its only result. Your function must handle the integers between 1 and 12 (inclusive). It should return an empty string if the function is called with an argument outside of this range. Include a main program that demonstrates your function by displaying each integer from 1 to 12 and its ordinal number.</div>"
   ]
  },
  {
   "cell_type": "code",
   "execution_count": 2,
   "id": "0001b771",
   "metadata": {},
   "outputs": [
    {
     "data": {
      "text/plain": [
       "'first'"
      ]
     },
     "execution_count": 2,
     "metadata": {},
     "output_type": "execute_result"
    }
   ],
   "source": [
    "def ordinal(num):\n",
    "    ordinals = {1:'first', 2:'second', 3:'third', 4:'forth', 5:'fifth', 6:'sixth', 7:'seventh', 8:'eighth', 9:'ninth', 10:'tenth', 11:'eleventh', 12:'twelfth'}\n",
    "    for i in ordinals:\n",
    "        if num == i:\n",
    "            return ordinals[i]\n",
    "        else:\n",
    "            print('')\n",
    "ordinal(1)"
   ]
  },
  {
   "cell_type": "markdown",
   "id": "50cea769",
   "metadata": {},
   "source": [
    "# Task 3.3"
   ]
  },
  {
   "cell_type": "markdown",
   "id": "5d80072e",
   "metadata": {},
   "source": [
    "<div style=\"text-align: justify\">Many people do not use capital letters correctly, especially when typing on small devices like smart phones. To help address this situation, you will create a function that takes a string as its only parameter and returns a new copy of the string that has been correctly capitalized. In particular, your function must:</div>\n",
    "\n",
    "- Capitalize the first non-space character in the string,\n",
    "- Capitalize the first non-space character after a period, exclamation mark or question mark, and\n",
    "- Capitalize a lowercase \"i\" if it is preceded by a space and followed by a space, period, exclamation mark, question mark or apostrophe.\n",
    "\n",
    "<div style=\"text-align: justify\">Implementing these transformations will correct most capitalization errors. For example, if the function is provided with the string \"what time do i have to be there? what’s the address? this time i’ll try to be on time!\" then it should return the string \"What time do I have to be there? What’s the address? This time I’ll try to be on time!\". Include a main program that reads a string from the user, capitalizes it using your function, and displays the result.</div>"
   ]
  },
  {
   "cell_type": "code",
   "execution_count": 3,
   "id": "e9268f97",
   "metadata": {},
   "outputs": [
    {
     "name": "stdout",
     "output_type": "stream",
     "text": [
      "['i', 'want', 'to', 'go', 'swimming.', 'and', 'you?', 'honestly,', 'i', 'have', 'no', 'idea']\n"
     ]
    },
    {
     "data": {
      "text/plain": [
       "'I want to go swimming. And you? Honestly, I have no idea'"
      ]
     },
     "execution_count": 3,
     "metadata": {},
     "output_type": "execute_result"
    }
   ],
   "source": [
    "def capitalize(s):\n",
    "    l = s.split() #converting unmutable string to mutable list\n",
    "    print(l)\n",
    "    for i in range(len(l)):\n",
    "        if l[i] == 'i':\n",
    "            l[i] = l[i].upper() #single 'i' in a separate loop\n",
    "            \n",
    "    s = ' '.join(l)\n",
    "    l = list(s)\n",
    "    for i in range(len(l)-1):\n",
    "        if i == 0:\n",
    "            l[i] = l[i].upper()\n",
    "            \n",
    "        if '.' in l[i] or '?' in l[i] or '!' in l[i]:\n",
    "            l[i+2] = l[i+2].upper()\n",
    "    s = ''.join(l)\n",
    "\n",
    "    return s\n",
    "s = 'i want to go swimming. and you? honestly, i have no idea'\n",
    "capitalize(s)"
   ]
  }
 ],
 "metadata": {
  "kernelspec": {
   "display_name": "Python 3",
   "language": "python",
   "name": "python3"
  },
  "language_info": {
   "codemirror_mode": {
    "name": "ipython",
    "version": 3
   },
   "file_extension": ".py",
   "mimetype": "text/x-python",
   "name": "python",
   "nbconvert_exporter": "python",
   "pygments_lexer": "ipython3",
   "version": "3.8.8"
  }
 },
 "nbformat": 4,
 "nbformat_minor": 5
}
